{
 "cells": [
  {
   "cell_type": "markdown",
   "metadata": {},
   "source": [
    "# **Facial Emotion Detection**\n"
   ]
  },
  {
   "cell_type": "code",
   "execution_count": 1,
   "metadata": {
    "execution": {
     "iopub.execute_input": "2025-01-03T13:41:41.573106Z",
     "iopub.status.busy": "2025-01-03T13:41:41.572677Z",
     "iopub.status.idle": "2025-01-03T13:41:59.362074Z",
     "shell.execute_reply": "2025-01-03T13:41:59.360998Z",
     "shell.execute_reply.started": "2025-01-03T13:41:41.573023Z"
    },
    "trusted": true
   },
   "outputs": [],
   "source": [
    "from IPython.display import clear_output\n",
    "!pip install tf_explain\n",
    "! pip install segmentation-models\n",
    "clear_output()\n",
    "from tf_explain.core.grad_cam import GradCAM"
   ]
  },
  {
   "cell_type": "code",
   "execution_count": 2,
   "metadata": {
    "execution": {
     "iopub.execute_input": "2025-01-03T13:41:59.364278Z",
     "iopub.status.busy": "2025-01-03T13:41:59.363761Z",
     "iopub.status.idle": "2025-01-03T13:41:59.773157Z",
     "shell.execute_reply": "2025-01-03T13:41:59.772127Z",
     "shell.execute_reply.started": "2025-01-03T13:41:59.364249Z"
    },
    "trusted": true
   },
   "outputs": [
    {
     "name": "stdout",
     "output_type": "stream",
     "text": [
      "Tensorflow version: 2.6.4\n"
     ]
    }
   ],
   "source": [
    "import numpy as np\n",
    "import seaborn as sns\n",
    "import matplotlib.pyplot as plt\n",
    "import os\n",
    "%matplotlib inline\n",
    "\n",
    "import tensorflow as tf\n",
    "from skimage.color import rgb2gray\n",
    "from tensorflow.keras import Input\n",
    "from tensorflow.keras.models import Model, load_model, save_model\n",
    "from tensorflow.keras.layers import Input, Activation, BatchNormalization, Dropout, Lambda, Conv2D, Conv2DTranspose, MaxPooling2D, concatenate, Flatten, Dense, Reshape, Multiply, Add,UpSampling2D\n",
    "from tensorflow.keras.optimizers import Adam\n",
    "from tensorflow.keras.callbacks import EarlyStopping, ModelCheckpoint\n",
    "\n",
    "\n",
    "import tensorflow as tf\n",
    "from keras import regularizers\n",
    "from tensorflow.keras.preprocessing.image import ImageDataGenerator, load_img\n",
    "from tensorflow.keras.layers import Dense, Input, Dropout,Flatten, Conv2D\n",
    "from tensorflow.keras.layers import BatchNormalization, Activation, MaxPooling2D\n",
    "from tensorflow.keras.models import Model, Sequential\n",
    "from tensorflow.keras.optimizers import Adam\n",
    "from tensorflow.keras.callbacks import ModelCheckpoint, ReduceLROnPlateau\n",
    "from tensorflow.keras.utils import plot_model\n",
    "\n",
    "from IPython.display import SVG, Image\n",
    "# from livelossplot import PlotLossesTensorFlowKeras\n",
    "print(\"Tensorflow version:\", tf.__version__)"
   ]
  },
  {
   "cell_type": "code",
   "execution_count": 4,
   "metadata": {
    "execution": {
     "iopub.execute_input": "2025-01-03T13:41:59.782905Z",
     "iopub.status.busy": "2025-01-03T13:41:59.782440Z",
     "iopub.status.idle": "2025-01-03T13:41:59.841439Z",
     "shell.execute_reply": "2025-01-03T13:41:59.840795Z",
     "shell.execute_reply.started": "2025-01-03T13:41:59.782869Z"
    },
    "trusted": true
   },
   "outputs": [],
   "source": [
    "import numpy as np \n",
    "import pandas as pd \n",
    "import os,cv2\n",
    "import numpy as np\n",
    "import matplotlib.pyplot as plt\n",
    "import matplotlib.image as mpimg\n",
    "from pylab import rcParams\n",
    "rcParams['figure.figsize'] = 20, 10\n",
    "\n",
    "from sklearn.utils import shuffle\n",
    "from sklearn.model_selection import train_test_split"
   ]
  },
  {
   "cell_type": "markdown",
   "metadata": {},
   "source": [
    "**Load and Explore the Dataset**"
   ]
  },
  {
   "cell_type": "code",
   "execution_count": 5,
   "metadata": {
    "execution": {
     "iopub.execute_input": "2025-01-03T13:41:59.842699Z",
     "iopub.status.busy": "2025-01-03T13:41:59.842442Z",
     "iopub.status.idle": "2025-01-03T13:42:01.062302Z",
     "shell.execute_reply": "2025-01-03T13:42:01.061281Z",
     "shell.execute_reply.started": "2025-01-03T13:41:59.842675Z"
    },
    "trusted": true
   },
   "outputs": [
    {
     "name": "stdout",
     "output_type": "stream",
     "text": [
      "Loaded the images of dataset-surprise\n",
      "\n",
      "Loaded the images of dataset-fear\n",
      "\n",
      "Loaded the images of dataset-sadness\n",
      "\n",
      "Loaded the images of dataset-disgust\n",
      "\n",
      "Loaded the images of dataset-contempt\n",
      "\n",
      "Loaded the images of dataset-happy\n",
      "\n",
      "Loaded the images of dataset-anger\n",
      "\n"
     ]
    },
    {
     "data": {
      "text/plain": [
       "(981, 48, 48, 3)"
      ]
     },
     "execution_count": 5,
     "metadata": {},
     "output_type": "execute_result"
    }
   ],
   "source": [
    "data_path = '/kaggle/input/ckplus/CK+48'\n",
    "data_dir_list = os.listdir(data_path)\n",
    "\n",
    "img_rows=256\n",
    "img_cols=256\n",
    "num_channel=1\n",
    "\n",
    "num_epoch=10\n",
    "\n",
    "img_data_list=[]\n",
    "\n",
    "\n",
    "for dataset in data_dir_list:\n",
    "    img_list=os.listdir(data_path+'/'+ dataset)\n",
    "    print ('Loaded the images of dataset-'+'{}\\n'.format(dataset))\n",
    "    for img in img_list:\n",
    "        input_img=cv2.imread(data_path + '/'+ dataset + '/'+ img )\n",
    "        #input_img=cv2.cvtColor(input_img, cv2.COLOR_BGR2GRAY)\n",
    "        input_img_resize=cv2.resize(input_img,(48,48))\n",
    "        img_data_list.append(input_img_resize)\n",
    "        \n",
    "img_data = np.array(img_data_list)\n",
    "img_data = img_data.astype('float32')\n",
    "img_data = img_data/255\n",
    "img_data.shape"
   ]
  },
  {
   "cell_type": "code",
   "execution_count": 6,
   "metadata": {
    "execution": {
     "iopub.execute_input": "2025-01-03T13:42:01.063900Z",
     "iopub.status.busy": "2025-01-03T13:42:01.063540Z",
     "iopub.status.idle": "2025-01-03T13:42:01.071353Z",
     "shell.execute_reply": "2025-01-03T13:42:01.070249Z",
     "shell.execute_reply.started": "2025-01-03T13:42:01.063873Z"
    },
    "trusted": true
   },
   "outputs": [],
   "source": [
    "num_classes = 7\n",
    "\n",
    "num_of_samples = img_data.shape[0]\n",
    "labels = np.ones((num_of_samples,),dtype='int64')\n",
    "\n",
    "labels[0:248]=0 #249\n",
    "labels[249:323]=1 #75\n",
    "labels[324:407]=2 #84\n",
    "labels[408:584]=3 #177\n",
    "labels[585:638]=4 #54\n",
    "labels[639:845]=5 #207\n",
    "labels[846:980]=6 #135\n",
    "\n",
    "names = ['surprise','fear','sadness','disgust' ,'contempt','happy','anger']\n",
    "\n",
    "def getLabel(id):\n",
    "    return ['surprise','fear','sadness','disgust' ,'contempt','happy','anger'][id]"
   ]
  },
  {
   "cell_type": "code",
   "execution_count": 7,
   "metadata": {
    "execution": {
     "iopub.execute_input": "2025-01-03T13:42:01.073202Z",
     "iopub.status.busy": "2025-01-03T13:42:01.072548Z",
     "iopub.status.idle": "2025-01-03T13:42:01.104151Z",
     "shell.execute_reply": "2025-01-03T13:42:01.103419Z",
     "shell.execute_reply.started": "2025-01-03T13:42:01.073165Z"
    },
    "trusted": true
   },
   "outputs": [],
   "source": [
    "from keras.utils import np_utils\n",
    "Y = np_utils.to_categorical(labels, num_classes)\n",
    "\n",
    "#Shuffle the dataset\n",
    "x,y = shuffle(img_data,Y, random_state=2)\n",
    "# Split the dataset\n",
    "X_train, X_test, y_train, y_test = train_test_split(x, y, test_size=0.15, random_state=2)\n",
    "x_test=X_test"
   ]
  },
  {
   "cell_type": "markdown",
   "metadata": {},
   "source": [
    "**Augmentation and Preprocessing**"
   ]
  },
  {
   "cell_type": "code",
   "execution_count": 8,
   "metadata": {
    "execution": {
     "iopub.execute_input": "2025-01-03T13:42:01.105569Z",
     "iopub.status.busy": "2025-01-03T13:42:01.105268Z",
     "iopub.status.idle": "2025-01-03T13:42:01.111391Z",
     "shell.execute_reply": "2025-01-03T13:42:01.110550Z",
     "shell.execute_reply.started": "2025-01-03T13:42:01.105533Z"
    },
    "trusted": true
   },
   "outputs": [],
   "source": [
    "import tensorflow as tf\n",
    "import tensorflow.keras as keras\n",
    "import keras.layers as layers\n",
    "import numpy as np\n",
    "\n",
    "\n",
    "class StandardizedConv2DWithOverride(layers.Conv2D):\n",
    "    def convolution_op(self, inputs, kernel):\n",
    "        mean, var = tf.nn.moments(kernel, axes=[0, 1, 2], keepdims=True)\n",
    "        return tf.nn.conv2d(\n",
    "            inputs,\n",
    "            (kernel - mean) / tf.sqrt(var + 1e-10),\n",
    "            padding=\"VALID\",\n",
    "            strides=list(self.strides),\n",
    "            name=self.__class__.__name__,\n",
    "        )"
   ]
  },
  {
   "cell_type": "code",
   "execution_count": 9,
   "metadata": {
    "execution": {
     "iopub.execute_input": "2025-01-03T13:42:01.112761Z",
     "iopub.status.busy": "2025-01-03T13:42:01.112504Z",
     "iopub.status.idle": "2025-01-03T13:42:01.130219Z",
     "shell.execute_reply": "2025-01-03T13:42:01.129535Z",
     "shell.execute_reply.started": "2025-01-03T13:42:01.112736Z"
    },
    "trusted": true
   },
   "outputs": [],
   "source": [
    "# Inputs\n",
    "input_layer = Input((48,48,3))"
   ]
  },
  {
   "cell_type": "code",
   "execution_count": 10,
   "metadata": {
    "execution": {
     "iopub.execute_input": "2025-01-03T13:42:01.132883Z",
     "iopub.status.busy": "2025-01-03T13:42:01.132425Z",
     "iopub.status.idle": "2025-01-03T13:42:02.393375Z",
     "shell.execute_reply": "2025-01-03T13:42:02.392368Z",
     "shell.execute_reply.started": "2025-01-03T13:42:01.132852Z"
    },
    "trusted": true
   },
   "outputs": [],
   "source": [
    "from tensorflow.keras.layers import Input, Conv2D, MaxPooling2D, BatchNormalization, GlobalAveragePooling2D, Dense, Dropout, concatenate, DepthwiseConv2D, Add, Activation\n",
    "from tensorflow.keras.models import Model\n",
    "\n",
    "# Squeeze and Excitation block\n",
    "def squeeze_excite_block(input_tensor, ratio=16):\n",
    "    channel_axis = -1\n",
    "    filters = input_tensor.shape[-1]\n",
    "    se_shape = (1, 1, filters)\n",
    "    \n",
    "    se = GlobalAveragePooling2D()(input_tensor)\n",
    "    se = Dense(filters // ratio, activation='relu')(se)\n",
    "    se = Dense(filters, activation='sigmoid')(se)\n",
    "    se = Reshape(se_shape)(se)\n",
    "    return Multiply()([input_tensor, se])\n",
    "\n",
    "# Inputs\n",
    "input_layer = Input((48, 48, 3))\n",
    "\n",
    "# Encoder with Depthwise Convolutions and Attention\n",
    "x = Conv2D(32, kernel_size=3, strides=1, padding='same', activation='relu')(input_layer)\n",
    "x = BatchNormalization()(x)\n",
    "\n",
    "# Adding Depthwise Convolution to capture more features efficiently\n",
    "x = DepthwiseConv2D(kernel_size=3, strides=1, padding='same', activation='relu')(x)\n",
    "\n",
    "x = MaxPooling2D(2, 2)(x)\n",
    "\n",
    "# Squeeze and Excitation for feature recalibration\n",
    "x = squeeze_excite_block(x)\n",
    "\n",
    "x = Conv2D(64, kernel_size=3, strides=1, padding='same', activation='relu')(x)\n",
    "x = DepthwiseConv2D(kernel_size=3, strides=1, padding='same', activation='relu')(x)\n",
    "x = MaxPooling2D(2, 2)(x)\n",
    "\n",
    "x = Conv2D(128, kernel_size=3, strides=1, padding='same', activation='relu')(x)\n",
    "x = DepthwiseConv2D(kernel_size=3, strides=1, padding='same', activation='relu')(x)\n",
    "x = MaxPooling2D(2, 2)(x)\n",
    "\n",
    "x = Conv2D(256, kernel_size=3, strides=1, padding='same', activation='relu')(x)\n",
    "x = DepthwiseConv2D(kernel_size=3, strides=1, padding='same', activation='relu')(x)\n",
    "x = MaxPooling2D(2, 2)(x)\n",
    "\n",
    "# Adding a residual block\n",
    "residual = Conv2D(256, kernel_size=1, strides=1, padding='same')(x)\n",
    "residual = BatchNormalization()(residual)\n",
    "residual = Activation('relu')(residual)\n",
    "\n",
    "x = Add()([x, residual])\n",
    "\n",
    "# Global Average Pooling to reduce parameters\n",
    "x = GlobalAveragePooling2D()(x)\n",
    "\n",
    "# Fully connected layers with Dropout\n",
    "x = Dense(512, activation='relu')(x)\n",
    "x = Dropout(0.4)(x)\n",
    "\n",
    "output_layer = Dense(7, activation='softmax')(x)\n",
    "\n",
    "# Model\n",
    "model = Model(inputs=input_layer, outputs=output_layer)\n",
    "\n",
    "#model.summary()\n",
    "\n",
    "# Plot model to visualize architecture\n",
    "from tensorflow.keras.utils import plot_model\n",
    "from IPython.display import Image\n",
    "\n",
    "#plot_model(model, to_file='model.png', show_shapes=True)\n",
    "#Image(\"model.png\")\n"
   ]
  },
  {
   "cell_type": "markdown",
   "metadata": {},
   "source": [
    "**Train the Model**"
   ]
  },
  {
   "cell_type": "code",
   "execution_count": 11,
   "metadata": {
    "execution": {
     "iopub.execute_input": "2025-01-03T13:42:02.394840Z",
     "iopub.status.busy": "2025-01-03T13:42:02.394548Z",
     "iopub.status.idle": "2025-01-03T13:42:02.399287Z",
     "shell.execute_reply": "2025-01-03T13:42:02.398286Z",
     "shell.execute_reply.started": "2025-01-03T13:42:02.394814Z"
    },
    "trusted": true
   },
   "outputs": [],
   "source": [
    "input_shape=(48,48,3)\n",
    "\n",
    "#model = Sequential()\n",
    "#model.add(model)"
   ]
  },
  {
   "cell_type": "code",
   "execution_count": 12,
   "metadata": {
    "execution": {
     "iopub.execute_input": "2025-01-03T13:42:02.400727Z",
     "iopub.status.busy": "2025-01-03T13:42:02.400413Z",
     "iopub.status.idle": "2025-01-03T13:42:02.413357Z",
     "shell.execute_reply": "2025-01-03T13:42:02.412605Z",
     "shell.execute_reply.started": "2025-01-03T13:42:02.400700Z"
    },
    "trusted": true
   },
   "outputs": [],
   "source": [
    "IMAGE_SIZE=(48,48)\n",
    "from keras.preprocessing import image\n",
    "label_dict = {0:'Angry',1:'Disgust',2:'Fear',3:'Happy',4:'Neutral',5:'Sad',6:'Surprise'}\n",
    "from keras.callbacks import Callback\n",
    "import cv2\n",
    "\n",
    "class ShowProgress(Callback):\n",
    "    def on_epoch_end(self, epochs, logs=None):\n",
    "        #img = cv2.imread(\"/kaggle/input/fer2013/test/surprise/PrivateTest_10089743.jpg\")\n",
    "        #img = cv2.resize(img ,IMAGE_SIZE)\n",
    "        img = image.load_img(\"/kaggle/input/ckplus/CK+48/anger/S010_004_00000017.png\",target_size = (48,48),color_mode = \"grayscale\")\n",
    "        img = np.array(img)\n",
    "        \n",
    "\n",
    "        #img = img / 255\n",
    "        #img = img[np.newaxis, :, :, :]\n",
    "        #pred=model.predict(img)\n",
    "        img1 = np.expand_dims(img,axis = 0) #makes image shape (1,48,48)\n",
    "        img2 = img1.reshape(1,48,48,3)\n",
    "        result = model.predict(img2)\n",
    "        result = list(result[0])\n",
    "        img_index = result.index(max(result))\n",
    "        label=label_dict[img_index]\n",
    "        \n",
    "\n",
    "        exp = GradCAM()\n",
    "        cam = exp.explain(\n",
    "            validation_data=(img2, result), \n",
    "            class_index=1,\n",
    "            layer_name='Final_Layer', \n",
    "            model=self.model\n",
    "            )\n",
    "\n",
    "        plt.figure(figsize=(5,2))\n",
    "        plt.subplot(1,2,1)\n",
    "        plt.imshow(np.squeeze(img))\n",
    "        plt.title('Original Image')\n",
    "\n",
    "        plt.subplot(1,2,2)\n",
    "        plt.title('GradCAM')\n",
    "        plt.imshow(cam)\n",
    "        plt.tight_layout()\n",
    "        plt.show()\n",
    "        print(\"***************************Predicted label: \",label)"
   ]
  },
  {
   "cell_type": "code",
   "execution_count": 13,
   "metadata": {
    "execution": {
     "iopub.execute_input": "2025-01-03T13:42:02.415088Z",
     "iopub.status.busy": "2025-01-03T13:42:02.414406Z",
     "iopub.status.idle": "2025-01-03T13:42:31.822285Z",
     "shell.execute_reply": "2025-01-03T13:42:31.821538Z",
     "shell.execute_reply.started": "2025-01-03T13:42:02.415053Z"
    },
    "trusted": true
   },
   "outputs": [
    {
     "name": "stdout",
     "output_type": "stream",
     "text": [
      "Epoch 1/35\n",
      "119/119 [==============================] - 3s 9ms/step - loss: 1.8160 - accuracy: 0.2365 - val_loss: 1.8936 - val_accuracy: 0.2230\n",
      "\n",
      "Epoch 00001: val_accuracy improved from -inf to 0.22297, saving model to model.hdf5\n",
      "Epoch 2/35\n",
      " 10/119 [=>............................] - ETA: 0s - loss: 1.7560 - accuracy: 0.2571"
     ]
    },
    {
     "name": "stderr",
     "output_type": "stream",
     "text": [
      "/opt/conda/lib/python3.7/site-packages/keras/utils/generic_utils.py:497: CustomMaskWarning: Custom mask layers require a config and must override get_config. When loading, the custom mask layer must be passed to the custom_objects argument.\n",
      "  category=CustomMaskWarning)\n"
     ]
    },
    {
     "name": "stdout",
     "output_type": "stream",
     "text": [
      "119/119 [==============================] - 1s 6ms/step - loss: 1.5882 - accuracy: 0.3661 - val_loss: 1.8683 - val_accuracy: 0.2230\n",
      "\n",
      "Epoch 00002: val_accuracy did not improve from 0.22297\n",
      "Epoch 3/35\n",
      "119/119 [==============================] - 1s 6ms/step - loss: 1.0182 - accuracy: 0.6062 - val_loss: 2.3574 - val_accuracy: 0.1622\n",
      "\n",
      "Epoch 00003: val_accuracy did not improve from 0.22297\n",
      "Epoch 4/35\n",
      "119/119 [==============================] - 1s 6ms/step - loss: 0.8167 - accuracy: 0.6927 - val_loss: 1.3847 - val_accuracy: 0.4730\n",
      "\n",
      "Epoch 00004: val_accuracy improved from 0.22297 to 0.47297, saving model to model.hdf5\n",
      "Epoch 5/35\n",
      "119/119 [==============================] - 1s 6ms/step - loss: 0.6331 - accuracy: 0.7707 - val_loss: 0.6997 - val_accuracy: 0.7635\n",
      "\n",
      "Epoch 00005: val_accuracy improved from 0.47297 to 0.76351, saving model to model.hdf5\n",
      "Epoch 6/35\n",
      "119/119 [==============================] - 1s 6ms/step - loss: 0.5020 - accuracy: 0.8235 - val_loss: 1.0447 - val_accuracy: 0.6554\n",
      "\n",
      "Epoch 00006: val_accuracy did not improve from 0.76351\n",
      "Epoch 7/35\n",
      "119/119 [==============================] - 1s 6ms/step - loss: 0.3741 - accuracy: 0.8595 - val_loss: 0.8601 - val_accuracy: 0.6622\n",
      "\n",
      "Epoch 00007: val_accuracy did not improve from 0.76351\n",
      "Epoch 8/35\n",
      "119/119 [==============================] - 1s 7ms/step - loss: 0.2637 - accuracy: 0.9064 - val_loss: 0.8331 - val_accuracy: 0.7230\n",
      "\n",
      "Epoch 00008: val_accuracy did not improve from 0.76351\n",
      "Epoch 9/35\n",
      "119/119 [==============================] - 1s 7ms/step - loss: 0.2741 - accuracy: 0.9028 - val_loss: 4.2210 - val_accuracy: 0.4595\n",
      "\n",
      "Epoch 00009: val_accuracy did not improve from 0.76351\n",
      "Epoch 10/35\n",
      "119/119 [==============================] - 1s 6ms/step - loss: 0.2240 - accuracy: 0.9268 - val_loss: 3.2134 - val_accuracy: 0.5811\n",
      "\n",
      "Epoch 00010: val_accuracy did not improve from 0.76351\n",
      "Epoch 11/35\n",
      "119/119 [==============================] - 1s 6ms/step - loss: 0.2270 - accuracy: 0.9352 - val_loss: 0.8364 - val_accuracy: 0.7230\n",
      "\n",
      "Epoch 00011: val_accuracy did not improve from 0.76351\n",
      "Epoch 12/35\n",
      "119/119 [==============================] - 1s 6ms/step - loss: 0.1806 - accuracy: 0.9520 - val_loss: 0.8627 - val_accuracy: 0.7770\n",
      "\n",
      "Epoch 00012: val_accuracy improved from 0.76351 to 0.77703, saving model to model.hdf5\n",
      "Epoch 13/35\n",
      "119/119 [==============================] - 1s 6ms/step - loss: 0.2021 - accuracy: 0.9328 - val_loss: 0.5693 - val_accuracy: 0.8176\n",
      "\n",
      "Epoch 00013: val_accuracy improved from 0.77703 to 0.81757, saving model to model.hdf5\n",
      "Epoch 14/35\n",
      "119/119 [==============================] - 1s 6ms/step - loss: 0.1455 - accuracy: 0.9676 - val_loss: 0.4947 - val_accuracy: 0.8851\n",
      "\n",
      "Epoch 00014: val_accuracy improved from 0.81757 to 0.88514, saving model to model.hdf5\n",
      "Epoch 15/35\n",
      "119/119 [==============================] - 1s 6ms/step - loss: 0.0930 - accuracy: 0.9676 - val_loss: 2.1331 - val_accuracy: 0.5878\n",
      "\n",
      "Epoch 00015: val_accuracy did not improve from 0.88514\n",
      "Epoch 16/35\n",
      "119/119 [==============================] - 1s 6ms/step - loss: 0.0909 - accuracy: 0.9676 - val_loss: 3.6751 - val_accuracy: 0.3919\n",
      "\n",
      "Epoch 00016: val_accuracy did not improve from 0.88514\n",
      "Epoch 17/35\n",
      "119/119 [==============================] - 1s 6ms/step - loss: 0.1270 - accuracy: 0.9592 - val_loss: 0.4699 - val_accuracy: 0.8176\n",
      "\n",
      "Epoch 00017: val_accuracy did not improve from 0.88514\n",
      "Epoch 18/35\n",
      "119/119 [==============================] - 1s 6ms/step - loss: 0.1109 - accuracy: 0.9640 - val_loss: 0.4443 - val_accuracy: 0.8919\n",
      "\n",
      "Epoch 00018: val_accuracy improved from 0.88514 to 0.89189, saving model to model.hdf5\n",
      "Epoch 19/35\n",
      "119/119 [==============================] - 1s 6ms/step - loss: 0.1264 - accuracy: 0.9520 - val_loss: 0.5267 - val_accuracy: 0.7905\n",
      "\n",
      "Epoch 00019: val_accuracy did not improve from 0.89189\n",
      "Epoch 20/35\n",
      "119/119 [==============================] - 1s 6ms/step - loss: 0.0740 - accuracy: 0.9784 - val_loss: 0.2285 - val_accuracy: 0.9392\n",
      "\n",
      "Epoch 00020: val_accuracy improved from 0.89189 to 0.93919, saving model to model.hdf5\n",
      "Epoch 21/35\n",
      "119/119 [==============================] - 1s 6ms/step - loss: 0.0696 - accuracy: 0.9784 - val_loss: 0.7367 - val_accuracy: 0.8176\n",
      "\n",
      "Epoch 00021: val_accuracy did not improve from 0.93919\n",
      "Epoch 22/35\n",
      "119/119 [==============================] - 1s 6ms/step - loss: 0.0820 - accuracy: 0.9748 - val_loss: 0.3910 - val_accuracy: 0.8716\n",
      "\n",
      "Epoch 00022: val_accuracy did not improve from 0.93919\n",
      "Epoch 23/35\n",
      "119/119 [==============================] - 1s 6ms/step - loss: 0.0753 - accuracy: 0.9772 - val_loss: 0.3905 - val_accuracy: 0.8851\n",
      "\n",
      "Epoch 00023: val_accuracy did not improve from 0.93919\n",
      "Epoch 24/35\n",
      "119/119 [==============================] - 1s 6ms/step - loss: 0.0356 - accuracy: 0.9916 - val_loss: 0.1136 - val_accuracy: 0.9730\n",
      "\n",
      "Epoch 00024: val_accuracy improved from 0.93919 to 0.97297, saving model to model.hdf5\n",
      "Epoch 25/35\n",
      "119/119 [==============================] - 1s 6ms/step - loss: 0.0643 - accuracy: 0.9760 - val_loss: 7.7594 - val_accuracy: 0.3446\n",
      "\n",
      "Epoch 00025: val_accuracy did not improve from 0.97297\n",
      "Epoch 26/35\n",
      "119/119 [==============================] - 1s 6ms/step - loss: 0.0955 - accuracy: 0.9652 - val_loss: 1.9402 - val_accuracy: 0.6419\n",
      "\n",
      "Epoch 00026: val_accuracy did not improve from 0.97297\n",
      "Epoch 27/35\n",
      "119/119 [==============================] - 1s 6ms/step - loss: 0.0599 - accuracy: 0.9856 - val_loss: 0.1491 - val_accuracy: 0.9459\n",
      "\n",
      "Epoch 00027: val_accuracy did not improve from 0.97297\n",
      "Epoch 28/35\n",
      "119/119 [==============================] - 1s 6ms/step - loss: 0.0687 - accuracy: 0.9736 - val_loss: 0.1637 - val_accuracy: 0.9730\n",
      "\n",
      "Epoch 00028: val_accuracy did not improve from 0.97297\n",
      "Epoch 29/35\n",
      "119/119 [==============================] - 1s 6ms/step - loss: 0.0761 - accuracy: 0.9748 - val_loss: 0.5201 - val_accuracy: 0.8514\n",
      "\n",
      "Epoch 00029: val_accuracy did not improve from 0.97297\n",
      "Epoch 30/35\n",
      "119/119 [==============================] - 1s 6ms/step - loss: 0.0538 - accuracy: 0.9868 - val_loss: 0.1226 - val_accuracy: 0.9595\n",
      "\n",
      "Epoch 00030: val_accuracy did not improve from 0.97297\n",
      "Epoch 31/35\n",
      "119/119 [==============================] - 1s 6ms/step - loss: 0.0724 - accuracy: 0.9784 - val_loss: 0.2656 - val_accuracy: 0.9324\n",
      "\n",
      "Epoch 00031: val_accuracy did not improve from 0.97297\n",
      "Epoch 32/35\n",
      "119/119 [==============================] - 1s 6ms/step - loss: 0.0633 - accuracy: 0.9892 - val_loss: 0.4171 - val_accuracy: 0.8919\n",
      "\n",
      "Epoch 00032: val_accuracy did not improve from 0.97297\n",
      "Epoch 33/35\n",
      "119/119 [==============================] - 1s 6ms/step - loss: 0.0500 - accuracy: 0.9844 - val_loss: 0.5890 - val_accuracy: 0.8514\n",
      "\n",
      "Epoch 00033: val_accuracy did not improve from 0.97297\n",
      "Epoch 34/35\n",
      "119/119 [==============================] - 1s 6ms/step - loss: 0.0507 - accuracy: 0.9856 - val_loss: 0.1566 - val_accuracy: 0.9662\n",
      "\n",
      "Epoch 00034: val_accuracy did not improve from 0.97297\n",
      "Epoch 35/35\n",
      "119/119 [==============================] - 1s 6ms/step - loss: 0.0162 - accuracy: 0.9940 - val_loss: 0.0817 - val_accuracy: 0.9932\n",
      "\n",
      "Epoch 00035: val_accuracy improved from 0.97297 to 0.99324, saving model to model.hdf5\n"
     ]
    }
   ],
   "source": [
    "epochs = 35\n",
    "\n",
    "\n",
    "learning_rate = 1e-3\n",
    "opt = Adam(learning_rate=learning_rate, beta_1=0.9, beta_2=0.999, epsilon=None, amsgrad=False)\n",
    "model.compile(optimizer=opt, loss='categorical_crossentropy', metrics=['accuracy'])\n",
    "\n",
    "checkpoint = ModelCheckpoint(\"model_weights.h5\", monitor=\"val_accuracy\", save_weights_only=True, mode='max', verbose=1)\n",
    "\n",
    "reduce_lr = ReduceLROnPlateau(monitor = 'val_loss', factor=0.1, patience = 2, min_lr=0.00001, model='auto')\n",
    "\n",
    "callbacks = [ModelCheckpoint('model.hdf5',monitor=\"val_accuracy\", verbose=1, save_best_only=True),\n",
    "            ReduceLROnPlateau(monitor='val_accuracy', factor=0.5, patience=20, verbose=1, min_lr=1e-6),\n",
    "            #ShowProgress(),\n",
    "            EarlyStopping(monitor='val_accuracy', restore_best_weights=True, patience=100)]\n",
    "\n",
    "history = hist = model.fit(X_train, y_train, batch_size=7, epochs=epochs, verbose=1, validation_data=(X_test, y_test),callbacks=callbacks)"
   ]
  },
  {
   "cell_type": "code",
   "execution_count": 14,
   "metadata": {
    "execution": {
     "iopub.execute_input": "2025-01-03T13:42:31.823788Z",
     "iopub.status.busy": "2025-01-03T13:42:31.823495Z",
     "iopub.status.idle": "2025-01-03T13:42:32.248797Z",
     "shell.execute_reply": "2025-01-03T13:42:32.247902Z",
     "shell.execute_reply.started": "2025-01-03T13:42:31.823742Z"
    },
    "trusted": true
   },
   "outputs": [
    {
     "data": {
      "text/plain": [
       "<Figure size 432x288 with 0 Axes>"
      ]
     },
     "execution_count": 14,
     "metadata": {},
     "output_type": "execute_result"
    },
    {
     "data": {
      "image/png": "[encoded data removed]",
      "text/plain": [
       "<Figure size 432x288 with 1 Axes>"
      ]
     },
     "metadata": {
      "needs_background": "light"
     },
     "output_type": "display_data"
    },
    {
     "data": {
      "image/png": "[encoded data removed]",
      "text/plain": [
       "<Figure size 432x288 with 1 Axes>"
      ]
     },
     "metadata": {
      "needs_background": "light"
     },
     "output_type": "display_data"
    },
    {
     "data": {
      "text/plain": [
       "<Figure size 432x288 with 0 Axes>"
      ]
     },
     "metadata": {},
     "output_type": "display_data"
    }
   ],
   "source": [
    "# visualizing losses and accuracy\n",
    "%matplotlib inline\n",
    "\n",
    "train_loss=history.history['loss']\n",
    "val_loss=history.history['val_loss']\n",
    "train_acc=history.history['accuracy']\n",
    "val_acc=history.history['val_accuracy']\n",
    "\n",
    "epochs = range(len(train_acc))\n",
    "\n",
    "plt.plot(epochs,train_loss,'r', label='train_loss')\n",
    "plt.plot(epochs,val_loss,'b', label='val_loss')\n",
    "plt.title('train_loss vs val_loss')\n",
    "plt.legend()\n",
    "plt.figure()\n",
    "\n",
    "plt.plot(epochs,train_acc,'r', label='train_acc')\n",
    "plt.plot(epochs,val_acc,'b', label='val_acc')\n",
    "plt.title('train_acc vs val_acc')\n",
    "plt.legend()\n",
    "plt.figure()"
   ]
  },
  {
   "cell_type": "code",
   "execution_count": 15,
   "metadata": {
    "execution": {
     "iopub.execute_input": "2025-01-03T13:42:32.250506Z",
     "iopub.status.busy": "2025-01-03T13:42:32.250133Z",
     "iopub.status.idle": "2025-01-03T13:42:32.993256Z",
     "shell.execute_reply": "2025-01-03T13:42:32.992357Z",
     "shell.execute_reply.started": "2025-01-03T13:42:32.250468Z"
    },
    "trusted": true
   },
   "outputs": [
    {
     "name": "stdout",
     "output_type": "stream",
     "text": [
      "Test Loss: 0.08166050165891647\n",
      "Test accuracy: 0.9932432174682617\n",
      "(1, 48, 48, 3)\n",
      "[[9.9999821e-01 1.8368011e-06 2.6954639e-10 3.3122632e-08 2.7566321e-15\n",
      "  2.0189026e-09 1.2272629e-15]]\n",
      "[[1. 0. 0. 0. 0. 0. 0.]]\n"
     ]
    },
    {
     "data": {
      "image/png": "[encoded data removed]",
      "text/plain": [
       "<Figure size 720x720 with 9 Axes>"
      ]
     },
     "metadata": {},
     "output_type": "display_data"
    }
   ],
   "source": [
    "score = model.evaluate(X_test, y_test, verbose=0)\n",
    "print('Test Loss:', score[0])\n",
    "print('Test accuracy:', score[1])\n",
    "\n",
    "test_image = X_test[0:1]\n",
    "print (test_image.shape)\n",
    "\n",
    "print(model.predict(test_image))\n",
    "classes_x=np.argmax(model.predict(test_image),axis=1)\n",
    "print(y_test[0:1])\n",
    "\n",
    "res = np.argmax(model.predict(X_test[0:9]),axis=1)\n",
    "plt.figure(figsize=(10, 10))\n",
    "\n",
    "for i in range(0, 9):\n",
    "    plt.subplot(330 + 1 + i)\n",
    "    plt.imshow(x_test[i],cmap=plt.get_cmap('gray'))\n",
    "    plt.gca().get_xaxis().set_ticks([])\n",
    "    plt.gca().get_yaxis().set_ticks([])\n",
    "    plt.ylabel('prediction = %s' % getLabel(res[i]), fontsize=14)\n",
    "# show the plot\n",
    "plt.show()"
   ]
  },
  {
   "cell_type": "markdown",
   "metadata": {},
   "source": [
    "**Evaluate Model**"
   ]
  },
  {
   "cell_type": "code",
   "execution_count": 16,
   "metadata": {
    "execution": {
     "iopub.execute_input": "2025-01-03T13:42:32.994701Z",
     "iopub.status.busy": "2025-01-03T13:42:32.994430Z",
     "iopub.status.idle": "2025-01-03T13:42:33.344488Z",
     "shell.execute_reply": "2025-01-03T13:42:33.343596Z",
     "shell.execute_reply.started": "2025-01-03T13:42:32.994676Z"
    },
    "trusted": true
   },
   "outputs": [
    {
     "data": {
      "image/png": "[encoded data removed]",
      "text/plain": [
       "<Figure size 504x504 with 1 Axes>"
      ]
     },
     "metadata": {
      "needs_background": "light"
     },
     "output_type": "display_data"
    }
   ],
   "source": [
    "from sklearn.metrics import confusion_matrix\n",
    "import numpy as np\n",
    "import pandas as pd\n",
    "import seaborn as sns\n",
    "import matplotlib.pyplot as plt\n",
    "\n",
    "# Assuming your model is a functional model\n",
    "results = model.predict(X_test)\n",
    "\n",
    "# Convert probabilities to class labels by selecting the index of the highest probability\n",
    "predicted_classes = np.argmax(results, axis=1)\n",
    "\n",
    "# Assuming y_test contains one-hot encoded labels, convert it to single labels\n",
    "y_true = np.argmax(y_test, axis=1)\n",
    "\n",
    "# Define your emotion labels in the desired order\n",
    "label = ['sad', 'happy', 'disgust', 'angry', 'neutral', 'fear', 'surprise']\n",
    "\n",
    "# Define the mapping of class indices to emotion labels\n",
    "labels = {0: 'sad', 1: 'happy', 2: 'disgust', 3: 'angry', 4: 'neutral', 5: 'fear', 6: 'surprise'}\n",
    "\n",
    "# Calculate the confusion matrix\n",
    "cm = confusion_matrix(y_true, predicted_classes)\n",
    "\n",
    "# Transform to DataFrame for easier plotting\n",
    "cm_df = pd.DataFrame(cm, index=label, columns=label)\n",
    "\n",
    "# Create a heatmap with a white-blue color palette ('Blues')\n",
    "plt.figure(figsize=(7, 7))\n",
    "sns.heatmap(cm_df, annot=True, cmap='Blues', cbar=False, linewidth=2, fmt='d')\n",
    "plt.title('Emotion Classification Confusion Matrix')\n",
    "plt.ylabel('True class')\n",
    "plt.xlabel('Predicted class')\n",
    "plt.show()\n"
   ]
  },
  {
   "cell_type": "code",
   "execution_count": 17,
   "metadata": {
    "execution": {
     "iopub.execute_input": "2025-01-03T13:42:33.346674Z",
     "iopub.status.busy": "2025-01-03T13:42:33.346247Z",
     "iopub.status.idle": "2025-01-03T13:42:33.356698Z",
     "shell.execute_reply": "2025-01-03T13:42:33.355881Z",
     "shell.execute_reply.started": "2025-01-03T13:42:33.346634Z"
    },
    "trusted": true
   },
   "outputs": [
    {
     "name": "stdout",
     "output_type": "stream",
     "text": [
      "              precision    recall  f1-score   support\n",
      "\n",
      "         sad       1.00      1.00      1.00        33\n",
      "       happy       1.00      0.95      0.97        19\n",
      "     disgust       1.00      1.00      1.00        13\n",
      "       angry       1.00      1.00      1.00        22\n",
      "     neutral       1.00      1.00      1.00         6\n",
      "        fear       0.97      1.00      0.98        31\n",
      "    surprise       1.00      1.00      1.00        24\n",
      "\n",
      "    accuracy                           0.99       148\n",
      "   macro avg       1.00      0.99      0.99       148\n",
      "weighted avg       0.99      0.99      0.99       148\n",
      "\n"
     ]
    }
   ],
   "source": [
    "from sklearn.metrics import classification_report\n",
    "\n",
    "# Assuming you have 'y_true' (true labels) and 'predicted_classes' (predicted labels)\n",
    "# 'target_names' is a list of class names in the same order as your labels\n",
    "target_names = ['sad', 'happy', 'disgust', 'angry', 'neutral', 'fear', 'surprise']\n",
    "\n",
    "# Generate the classification report\n",
    "report = classification_report(y_true, predicted_classes, target_names=target_names)\n",
    "\n",
    "# Print the classification report\n",
    "print(report)\n"
   ]
  },
  {
   "cell_type": "code",
   "execution_count": 21,
   "metadata": {
    "execution": {
     "iopub.execute_input": "2025-01-03T13:45:17.742315Z",
     "iopub.status.busy": "2025-01-03T13:45:17.741390Z",
     "iopub.status.idle": "2025-01-03T13:45:17.825205Z",
     "shell.execute_reply": "2025-01-03T13:45:17.824227Z",
     "shell.execute_reply.started": "2025-01-03T13:45:17.742274Z"
    },
    "trusted": true
   },
   "outputs": [],
   "source": [
    "# Saving the model\n",
    "model.save('emotion_detection_on_face.h5')  # Save the model in HDF5 format\n"
   ]
  },
  {
   "cell_type": "code",
   "execution_count": 22,
   "metadata": {
    "execution": {
     "iopub.execute_input": "2025-01-03T13:45:23.719620Z",
     "iopub.status.busy": "2025-01-03T13:45:23.719249Z",
     "iopub.status.idle": "2025-01-03T13:45:24.151223Z",
     "shell.execute_reply": "2025-01-03T13:45:24.150458Z",
     "shell.execute_reply.started": "2025-01-03T13:45:23.719588Z"
    },
    "trusted": true
   },
   "outputs": [],
   "source": [
    "from tensorflow.keras.models import load_model\n",
    "\n",
    "# Load the model\n",
    "model = load_model('emotion_detection_on_face.h5')\n"
   ]
  },
  {
   "cell_type": "markdown",
   "metadata": {},
   "source": [
    "**Testing it on other photos**"
   ]
  },
  {
   "cell_type": "code",
   "execution_count": null,
   "metadata": {
    "execution": {
     "iopub.execute_input": "2025-01-03T14:09:29.195699Z",
     "iopub.status.busy": "2025-01-03T14:09:29.195293Z",
     "iopub.status.idle": "2025-01-03T14:09:38.422402Z",
     "shell.execute_reply": "2025-01-03T14:09:38.421615Z",
     "shell.execute_reply.started": "2025-01-03T14:09:29.195665Z"
    },
    "trusted": true
   },
   "outputs": [],
   "source": [
    "import cv2\n",
    "import numpy as np\n",
    "import os\n",
    "from tensorflow.keras.models import load_model\n",
    "import matplotlib.pyplot as plt\n",
    "\n",
    "# Define the emotion labels (assuming you have these mapped in the same order as in the model training)\n",
    "emotion_labels = ['Anger', 'Disgust', 'Fear', 'Happy', 'Sad', 'Surprise', 'Neutral']\n",
    "\n",
    "# Load your trained model (replace 'your_model.h5' with the path to your saved model)\n",
    "model = load_model('/kaggle/working/best_model.h5')\n",
    "\n",
    "# Path to the folder containing images\n",
    "image_folder = '/kaggle/input/newdataset'\n",
    "\n",
    "# Check if folder exists\n",
    "if not os.path.exists(image_folder):\n",
    "    print(f\"Error: The folder '{image_folder}' does not exist.\")\n",
    "else:\n",
    "    # Loop through all files in the folder\n",
    "    for image_name in os.listdir(image_folder):\n",
    "        # Get the full path of the image\n",
    "        image_path = os.path.join(image_folder, image_name)\n",
    "\n",
    "        # Check if it's an image file (you can filter by extension here, if needed)\n",
    "        if image_name.lower().endswith(('.png', '.jpg', '.jpeg')):\n",
    "\n",
    "            # Load the image\n",
    "            img = cv2.imread(image_path)\n",
    "\n",
    "            # Check if image was loaded correctly\n",
    "            if img is None:\n",
    "                print(f\"Error: Could not load image {image_name}. Skipping.\")\n",
    "                continue\n",
    "\n",
    "            # Convert the image from BGR (OpenCV default) to RGB\n",
    "            img_rgb = cv2.cvtColor(img, cv2.COLOR_BGR2RGB)\n",
    "\n",
    "            # Resize the image to the input size required by the model (e.g., 48x48)\n",
    "            img_resized = cv2.resize(img_rgb, (48, 48))\n",
    "\n",
    "            # Normalize the image data (scaling to 0-1 range)\n",
    "            img_normalized = img_resized / 255.0\n",
    "\n",
    "            # Reshape the image to match the input shape (e.g., (1, 48, 48, 3) for a single RGB image)\n",
    "            img_input = np.reshape(img_normalized, (1, 48, 48, 3))\n",
    "\n",
    "            # Make the emotion prediction using the trained model\n",
    "            predicted_class = model.predict(img_input)\n",
    "\n",
    "            # Get the index of the maximum probability\n",
    "            emotion_index = np.argmax(predicted_class)\n",
    "\n",
    "            # Get the predicted emotion label\n",
    "            predicted_emotion = emotion_labels[emotion_index]\n",
    "\n",
    "            # Print the predicted emotion for this image\n",
    "            print(f\"Image: {image_name} - Predicted Emotion: {predicted_emotion}\")\n",
    "\n",
    "            # Optionally, display the image with the predicted emotion label\n",
    "            plt.imshow(img_rgb)\n",
    "            plt.title(f'Predicted Emotion: {predicted_emotion}')\n",
    "            plt.axis('off')\n",
    "            plt.show()\n"
   ]
  },
  {
   "cell_type": "code",
   "execution_count": null,
   "metadata": {
    "execution": {
     "iopub.execute_input": "2025-01-03T14:10:37.441202Z",
     "iopub.status.busy": "2025-01-03T14:10:37.440848Z",
     "iopub.status.idle": "2025-01-03T14:10:43.631624Z",
     "shell.execute_reply": "2025-01-03T14:10:43.630737Z",
     "shell.execute_reply.started": "2025-01-03T14:10:37.441172Z"
    },
    "trusted": true
   },
   "outputs": [],
   "source": [
    "import cv2\n",
    "import numpy as np\n",
    "import os\n",
    "from tensorflow.keras.models import load_model\n",
    "import matplotlib.pyplot as plt\n",
    "\n",
    "# Define the emotion labels (assuming you have these mapped in the same order as in the model training)\n",
    "emotion_labels = ['Anger', 'Disgust', 'Fear', 'Happy', 'Sad', 'Surprise', 'Neutral']\n",
    "\n",
    "# Load your trained model (replace 'your_model.h5' with the path to your saved model)\n",
    "model = load_model('/kaggle/working/emotion_detection_on_face.h5')\n",
    "\n",
    "# Path to the folder containing images\n",
    "image_folder = '/kaggle/input/newdataset'\n",
    "\n",
    "# Check if folder exists\n",
    "if not os.path.exists(image_folder):\n",
    "    print(f\"Error: The folder '{image_folder}' does not exist.\")\n",
    "else:\n",
    "    # Loop through all files in the folder\n",
    "    for image_name in os.listdir(image_folder):\n",
    "        # Get the full path of the image\n",
    "        image_path = os.path.join(image_folder, image_name)\n",
    "\n",
    "        # Check if it's an image file (you can filter by extension here, if needed)\n",
    "        if image_name.lower().endswith(('.png', '.jpg', '.jpeg')):\n",
    "\n",
    "            # Load the image\n",
    "            img = cv2.imread(image_path)\n",
    "\n",
    "            # Check if image was loaded correctly\n",
    "            if img is None:\n",
    "                print(f\"Error: Could not load image {image_name}. Skipping.\")\n",
    "                continue\n",
    "\n",
    "            # Convert the image from BGR (OpenCV default) to RGB\n",
    "            img_rgb = cv2.cvtColor(img, cv2.COLOR_BGR2RGB)\n",
    "\n",
    "            # Resize the image to the input size required by the model (e.g., 48x48)\n",
    "            img_resized = cv2.resize(img_rgb, (48, 48))\n",
    "\n",
    "            # Normalize the image data (scaling to 0-1 range)\n",
    "            img_normalized = img_resized / 255.0\n",
    "\n",
    "            # Reshape the image to match the input shape (e.g., (1, 48, 48, 3) for a single RGB image)\n",
    "            img_input = np.reshape(img_normalized, (1, 48, 48, 3))\n",
    "\n",
    "            # Make the emotion prediction using the trained model\n",
    "            predicted_class = model.predict(img_input)\n",
    "\n",
    "            # Get the index of the maximum probability\n",
    "            emotion_index = np.argmax(predicted_class)\n",
    "\n",
    "            # Get the predicted emotion label\n",
    "            predicted_emotion = emotion_labels[emotion_index]\n",
    "\n",
    "            # Print the predicted emotion for this image\n",
    "            print(f\"Image: {image_name} - Predicted Emotion: {predicted_emotion}\")\n",
    "\n",
    "            # Optionally, display the image with the predicted emotion label\n",
    "            plt.imshow(img_rgb)\n",
    "            plt.title(f'Predicted Emotion: {predicted_emotion}')\n",
    "            plt.axis('off')\n",
    "            plt.show()\n"
   ]
  },
  {
   "cell_type": "code",
   "execution_count": null,
   "metadata": {
    "trusted": true
   },
   "outputs": [],
   "source": []
  }
 ],
 "metadata": {
  "kaggle": {
   "accelerator": "gpu",
   "dataSources": [
    {
     "datasetId": 65125,
     "sourceId": 128470,
     "sourceType": "datasetVersion"
    },
    {
     "datasetId": 6418929,
     "sourceId": 10363856,
     "sourceType": "datasetVersion"
    }
   ],
   "dockerImageVersionId": 30302,
   "isGpuEnabled": true,
   "isInternetEnabled": true,
   "language": "python",
   "sourceType": "notebook"
  },
  "kernelspec": {
   "display_name": "Python 3",
   "language": "python",
   "name": "python3"
  },
  "language_info": {
   "codemirror_mode": {
    "name": "ipython",
    "version": 3
   },
   "file_extension": ".py",
   "mimetype": "text/x-python",
   "name": "python",
   "nbconvert_exporter": "python",
   "pygments_lexer": "ipython3",
   "version": "3.7.12"
  }
 },
 "nbformat": 4,
 "nbformat_minor": 4
}
